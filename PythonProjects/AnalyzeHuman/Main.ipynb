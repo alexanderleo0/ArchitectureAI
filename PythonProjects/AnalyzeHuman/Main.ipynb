{
 "cells": [
  {
   "cell_type": "code",
   "execution_count": 15,
   "metadata": {},
   "outputs": [],
   "source": [
    "import pandas as pd"
   ]
  },
  {
   "cell_type": "code",
   "execution_count": 34,
   "metadata": {},
   "outputs": [],
   "source": [
    "df = pd.read_csv(\"Priziv1volna.csv\", sep= \"\\t\", engine=\"python\", dtype={\"PASSPORT_NUMBER\" : str})"
   ]
  },
  {
   "cell_type": "code",
   "execution_count": 36,
   "metadata": {},
   "outputs": [
    {
     "name": "stdout",
     "output_type": "stream",
     "text": [
      "                         ФИО  BURN_DATE  \\\n",
      "0  ААРИНОЛА ДЖЕССЕ ПЕТЕРОВИЧ  1.10.1994   \n",
      "1  АБАБИЙ ВАСИЛИЙ АЛЕКСЕЕВИЧ  14.1.1997   \n",
      "2     АБАБИЙ РОМАН АРТУРОВИЧ  15.5.1997   \n",
      "\n",
      "                                              ADRESS PASSPORT_NUMBER  \\\n",
      "0  Г. МОСКВА, УЛ. ДОКУКИНА, ДОМ 9, КОРПУС 1, КВАР...      4510243117   \n",
      "1  Г. САНКТ-ПЕТЕРБУРГ, П. СТРЕЛЬНА, Ш. САНКТ-ПЕТЕ...      3411009134   \n",
      "2  ОБЛ. НИЖЕГОРОДСКАЯ, Г. НИЖНИЙ НОВГОРОД, ПЕР. 2...      2217682637   \n",
      "\n",
      "                                       PASSPORT_UNIT  \n",
      "0  ОТДЕЛЕНИЕ УФМС РОССИИ ПО ГОР. МОСКВЕ ПО РАЙОНУ...  \n",
      "1  ТЕРРИТОРИАЛЬНЫЙ ПУНКТ УФМС РОССИИ ПО КОСТРОМСК...  \n",
      "2  ОТДЕЛ УФМС РОССИИ ПО НИЖЕГОРОДСКОЙ ОБЛ. В ПРИО...  \n"
     ]
    }
   ],
   "source": [
    "\n",
    "print(df.head(3))\n"
   ]
  },
  {
   "cell_type": "code",
   "execution_count": null,
   "metadata": {},
   "outputs": [],
   "source": [
    "import googlemaps\n",
    "gmaps = googlemaps.Client(key='Add Your Key here')\n",
    "geocode_result = gmaps.geocode(\"Adress\")\n",
    "\n"
   ]
  },
  {
   "cell_type": "code",
   "execution_count": null,
   "metadata": {},
   "outputs": [],
   "source": []
  }
 ],
 "metadata": {
  "kernelspec": {
   "display_name": "venv",
   "language": "python",
   "name": "python3"
  },
  "language_info": {
   "codemirror_mode": {
    "name": "ipython",
    "version": 3
   },
   "file_extension": ".py",
   "mimetype": "text/x-python",
   "name": "python",
   "nbconvert_exporter": "python",
   "pygments_lexer": "ipython3",
   "version": "3.11.4"
  },
  "orig_nbformat": 4
 },
 "nbformat": 4,
 "nbformat_minor": 2
}
