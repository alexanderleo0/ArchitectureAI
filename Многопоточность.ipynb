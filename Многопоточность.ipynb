{
 "cells": [
  {
   "cell_type": "code",
   "execution_count": null,
   "metadata": {},
   "outputs": [],
   "source": [
    "import threading\n",
    "\n",
    "def print_cucumber():\n",
    "    for i in range(1000):\n",
    "        print(\"🥒\")\n",
    "\n",
    "def print_apple():\n",
    "    for i in range(1000):\n",
    "        print(\"🍎\")\n",
    "\n",
    "# создаем потоки\n",
    "t1 = threading.Thread(target=print_cucumber)\n",
    "t2 = threading.Thread(target=print_apple)\n",
    "\n",
    "# Запускаем потоки\n",
    "t1.start() \n",
    "t2.start()\n",
    "\n",
    "print(\"Starting\")\n",
    "# ждем когда завершится поток 1\n",
    "t1.join()\n",
    "# после завершения печатаем надпись\n",
    "print(\"t1 finish\")\n",
    "# ждем когда завершится поток 2\n",
    "t2.join()\n",
    "# после завершения печатаем надпись\n",
    "print(\"t2 finish\")\n",
    "\n"
   ]
  },
  {
   "cell_type": "code",
   "execution_count": null,
   "metadata": {},
   "outputs": [],
   "source": []
  }
 ],
 "metadata": {
  "language_info": {
   "name": "python"
  },
  "orig_nbformat": 4
 },
 "nbformat": 4,
 "nbformat_minor": 2
}
